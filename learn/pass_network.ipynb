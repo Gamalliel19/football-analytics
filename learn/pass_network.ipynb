{
 "cells": [
  {
   "cell_type": "code",
   "execution_count": null,
   "metadata": {},
   "outputs": [],
   "source": [
    "import pandas as pd\n",
    "import numpy as np\n",
    "import matplotlib.pyplot as plt\n",
    "import matplotlib\n",
    "import squarify\n",
    "from mplsoccer import Pitch, FontManager, Sbopen"
   ]
  },
  {
   "cell_type": "code",
   "execution_count": null,
   "metadata": {},
   "outputs": [],
   "source": [
    "table = pd.read_csv('./dataset/messibetis.csv')\n",
    "df = table[['player', 'x', 'y', 'endX', 'endY', 'outcome']]\n",
    "df.head()"
   ]
  },
  {
   "cell_type": "code",
   "execution_count": null,
   "metadata": {},
   "outputs": [],
   "source": [
    "# dijadikan float\n",
    "df['x'] = df['x'] * 1.2\n",
    "df['y'] = df['y'] * .8\n",
    "df['endX'] = df['endX'] * 1.2\n",
    "df['endY'] = df['endY'] * .8\n",
    "# df.head()"
   ]
  },
  {
   "cell_type": "code",
   "execution_count": null,
   "metadata": {},
   "outputs": [],
   "source": [
    "success_pass = df[df['outcome'] == 'Successful'].reset_index(drop=True)\n",
    "unsuccessful_pass = df[df['outcome'] == 'Unsuccessful'].reset_index(drop=True)\n",
    "\n",
    "# Set up the pitch\n",
    "pitch = Pitch(pitch_type='statsbomb', pitch_color='#22312b', line_color='#c7d5cc')\n",
    "fig, ax = pitch.draw(figsize=(13.5, 8), constrained_layout=False, tight_layout=True)\n",
    "fig.set_facecolor('#22312b')\n",
    "\n",
    "mask_complete = df.outcome.isnull()\n",
    "\n",
    "# for i in range(len(df['x'])):\n",
    "# print(mask_complete)\n",
    "\n",
    "# Successful Pass    \n",
    "pitch.arrows(success_pass.x, success_pass.y, success_pass.endX, success_pass.endY, width=1, headwidth=5, headlength=5, color='#ad993c', ax=ax, label='Successful Pass')\n",
    "\n",
    "# Unsuccessful Pass\n",
    "pitch.arrows(unsuccessful_pass.x, unsuccessful_pass.y, unsuccessful_pass.endX, unsuccessful_pass.endY, width=1, headwidth=5, headlength=5, color='red', ax=ax, label='Unsuccessful Pass')\n",
    "\n",
    "# Set up the legend\n",
    "ax.legend(facecolor='#FFF', handlelength=5, edgecolor='None', fontsize=20, loc='upper left')\n",
    "\n",
    "# Set the title\n",
    "ax_title = ax.set_title(f'Messi passes vs Netherland', fontsize=30, color='white')\n"
   ]
  },
  {
   "cell_type": "code",
   "execution_count": null,
   "metadata": {},
   "outputs": [],
   "source": [
    "# Draw pass line\n",
    "# for i in range(len(df['x'])):\n",
    "#     if df['outcome'][i] == 'Successful':\n",
    "#         pitch.arrows(df['x'][i], df['y'][i], df['endX'][i], ['endY'][i], width=2, headwidth=10, headlength=10, color='#ad993c', ax=ax, label='completed passes')"
   ]
  }
 ],
 "metadata": {
  "kernelspec": {
   "display_name": ".venv",
   "language": "python",
   "name": "python3"
  },
  "language_info": {
   "codemirror_mode": {
    "name": "ipython",
    "version": 3
   },
   "file_extension": ".py",
   "mimetype": "text/x-python",
   "name": "python",
   "nbconvert_exporter": "python",
   "pygments_lexer": "ipython3",
   "version": "3.7.9"
  },
  "orig_nbformat": 4
 },
 "nbformat": 4,
 "nbformat_minor": 2
}
